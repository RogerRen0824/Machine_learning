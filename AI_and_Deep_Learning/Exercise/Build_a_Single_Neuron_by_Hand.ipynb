{
 "cells": [
  {
   "cell_type": "code",
   "execution_count": 4,
   "metadata": {},
   "outputs": [],
   "source": [
    "# Import necessary libraries\n",
    "import numpy as np\n",
    "import pandas as pd\n",
    "import matplotlib.pyplot as plt\n",
    "%matplotlib inline"
   ]
  },
  {
   "cell_type": "code",
   "execution_count": 5,
   "metadata": {},
   "outputs": [
    {
     "data": {
      "text/html": [
       "<div>\n",
       "<style scoped>\n",
       "    .dataframe tbody tr th:only-of-type {\n",
       "        vertical-align: middle;\n",
       "    }\n",
       "\n",
       "    .dataframe tbody tr th {\n",
       "        vertical-align: top;\n",
       "    }\n",
       "\n",
       "    .dataframe thead th {\n",
       "        text-align: right;\n",
       "    }\n",
       "</style>\n",
       "<table border=\"1\" class=\"dataframe\">\n",
       "  <thead>\n",
       "    <tr style=\"text-align: right;\">\n",
       "      <th></th>\n",
       "      <th>Age</th>\n",
       "      <th>Sex</th>\n",
       "      <th>ChestPain</th>\n",
       "      <th>RestBP</th>\n",
       "      <th>Chol</th>\n",
       "      <th>Fbs</th>\n",
       "      <th>RestECG</th>\n",
       "      <th>MaxHR</th>\n",
       "      <th>ExAng</th>\n",
       "      <th>Oldpeak</th>\n",
       "      <th>Slope</th>\n",
       "      <th>Ca</th>\n",
       "      <th>Thal</th>\n",
       "      <th>AHD</th>\n",
       "    </tr>\n",
       "  </thead>\n",
       "  <tbody>\n",
       "    <tr>\n",
       "      <th>1</th>\n",
       "      <td>63</td>\n",
       "      <td>1</td>\n",
       "      <td>typical</td>\n",
       "      <td>145</td>\n",
       "      <td>233</td>\n",
       "      <td>1</td>\n",
       "      <td>2</td>\n",
       "      <td>150</td>\n",
       "      <td>0</td>\n",
       "      <td>2.3</td>\n",
       "      <td>3</td>\n",
       "      <td>0.0</td>\n",
       "      <td>fixed</td>\n",
       "      <td>No</td>\n",
       "    </tr>\n",
       "    <tr>\n",
       "      <th>2</th>\n",
       "      <td>67</td>\n",
       "      <td>1</td>\n",
       "      <td>asymptomatic</td>\n",
       "      <td>160</td>\n",
       "      <td>286</td>\n",
       "      <td>0</td>\n",
       "      <td>2</td>\n",
       "      <td>108</td>\n",
       "      <td>1</td>\n",
       "      <td>1.5</td>\n",
       "      <td>2</td>\n",
       "      <td>3.0</td>\n",
       "      <td>normal</td>\n",
       "      <td>Yes</td>\n",
       "    </tr>\n",
       "    <tr>\n",
       "      <th>3</th>\n",
       "      <td>67</td>\n",
       "      <td>1</td>\n",
       "      <td>asymptomatic</td>\n",
       "      <td>120</td>\n",
       "      <td>229</td>\n",
       "      <td>0</td>\n",
       "      <td>2</td>\n",
       "      <td>129</td>\n",
       "      <td>1</td>\n",
       "      <td>2.6</td>\n",
       "      <td>2</td>\n",
       "      <td>2.0</td>\n",
       "      <td>reversable</td>\n",
       "      <td>Yes</td>\n",
       "    </tr>\n",
       "    <tr>\n",
       "      <th>4</th>\n",
       "      <td>37</td>\n",
       "      <td>1</td>\n",
       "      <td>nonanginal</td>\n",
       "      <td>130</td>\n",
       "      <td>250</td>\n",
       "      <td>0</td>\n",
       "      <td>0</td>\n",
       "      <td>187</td>\n",
       "      <td>0</td>\n",
       "      <td>3.5</td>\n",
       "      <td>3</td>\n",
       "      <td>0.0</td>\n",
       "      <td>normal</td>\n",
       "      <td>No</td>\n",
       "    </tr>\n",
       "    <tr>\n",
       "      <th>5</th>\n",
       "      <td>41</td>\n",
       "      <td>0</td>\n",
       "      <td>nontypical</td>\n",
       "      <td>130</td>\n",
       "      <td>204</td>\n",
       "      <td>0</td>\n",
       "      <td>2</td>\n",
       "      <td>172</td>\n",
       "      <td>0</td>\n",
       "      <td>1.4</td>\n",
       "      <td>1</td>\n",
       "      <td>0.0</td>\n",
       "      <td>normal</td>\n",
       "      <td>No</td>\n",
       "    </tr>\n",
       "  </tbody>\n",
       "</table>\n",
       "</div>"
      ],
      "text/plain": [
       "   Age  Sex     ChestPain  RestBP  Chol  Fbs  RestECG  MaxHR  ExAng  Oldpeak  \\\n",
       "1   63    1       typical     145   233    1        2    150      0      2.3   \n",
       "2   67    1  asymptomatic     160   286    0        2    108      1      1.5   \n",
       "3   67    1  asymptomatic     120   229    0        2    129      1      2.6   \n",
       "4   37    1    nonanginal     130   250    0        0    187      0      3.5   \n",
       "5   41    0    nontypical     130   204    0        2    172      0      1.4   \n",
       "\n",
       "   Slope   Ca        Thal  AHD  \n",
       "1      3  0.0       fixed   No  \n",
       "2      2  3.0      normal  Yes  \n",
       "3      2  2.0  reversable  Yes  \n",
       "4      3  0.0      normal   No  \n",
       "5      1  0.0      normal   No  "
      ]
     },
     "execution_count": 5,
     "metadata": {},
     "output_type": "execute_result"
    }
   ],
   "source": [
    "# Read the dataset\n",
    "heart_data = pd.read_csv('Heart.csv', index_col=0)\n",
    "\n",
    "# Take a quick look at the dataframe\n",
    "heart_data.head()\n"
   ]
  },
  {
   "cell_type": "code",
   "execution_count": 6,
   "metadata": {},
   "outputs": [],
   "source": [
    "# Assign Max Heart Rate as the predictor\n",
    "x = heart_data['MaxHR']\n",
    "\n",
    "# Assign AHD as the response variable\n",
    "# Replace the string column values to 0 and 1\n",
    "y = heart_data['AHD'].replace({'No':0,'Yes':1})\n"
   ]
  },
  {
   "cell_type": "code",
   "execution_count": 7,
   "metadata": {},
   "outputs": [
    {
     "name": "stderr",
     "output_type": "stream",
     "text": [
      "No artists with labels found to put in legend.  Note that artists whose label start with an underscore are ignored when legend() is called with no argument.\n"
     ]
    },
    {
     "data": {
      "text/plain": [
       "<matplotlib.legend.Legend at 0x210d772d550>"
      ]
     },
     "execution_count": 7,
     "metadata": {},
     "output_type": "execute_result"
    },
    {
     "data": {
      "image/png": "[encoded data removed]",
      "text/plain": [
       "<Figure size 640x480 with 1 Axes>"
      ]
     },
     "metadata": {},
     "output_type": "display_data"
    }
   ],
   "source": [
    "# Plot the predictor and reponse vairables as a scatter plot \n",
    "# with appropriate axes label\n",
    "plt.scatter(x,y)\n",
    "plt.xlabel('MaxHR')\n",
    "plt.ylabel('AHD')\n",
    "plt.legend(loc='best')\n"
   ]
  },
  {
   "cell_type": "code",
   "execution_count": 8,
   "metadata": {},
   "outputs": [],
   "source": [
    "### edTest(test_affine) ###\n",
    "\n",
    "# Function to perform affine transformation\n",
    "def affine(x, w, b):\n",
    "    \"\"\"Return affine transformation of x\n",
    "    \n",
    "    INPUTS\n",
    "    ======\n",
    "    x: A numpy array of points in x\n",
    "    w: A float representing the weight of the perceptron\n",
    "    b: A float representing the bias of the perceptron\n",
    "    \n",
    "    RETURN\n",
    "    ======\n",
    "    z: A numpy array of points after the affine transformation\n",
    "    \"\"\"\n",
    "    # This works for scalar values only\n",
    "    # Your code here\n",
    "    z = w * x + b\n",
    "    return z\n"
   ]
  },
  {
   "cell_type": "code",
   "execution_count": 9,
   "metadata": {},
   "outputs": [],
   "source": [
    "### edTest(test_sigmoid) ###\n",
    "\n",
    "# Function to apply sigmoid function on the parameter\n",
    "def sigmoid(z):\n",
    "    # Hint: numpy has an exponentiation function, np.exp()\n",
    "    \n",
    "    # Your code here\n",
    "    h = 1/(1+np.exp(-z))\n",
    "    return h"
   ]
  },
  {
   "cell_type": "code",
   "execution_count": 10,
   "metadata": {},
   "outputs": [],
   "source": [
    "### edTest(test_neuron_predict) ###\n",
    "\n",
    "# Function to combine the previous operations\n",
    "def neuron_predict(x, w, b):\n",
    "\n",
    "    # Call the previous functions\n",
    "    # Your code here\n",
    "    z = affine(x, w, b)\n",
    "    h = sigmoid(z)\n",
    "    return h"
   ]
  },
  {
   "cell_type": "code",
   "execution_count": 12,
   "metadata": {},
   "outputs": [],
   "source": [
    "def accuracy(y_true, y_pred):\n",
    "    assert y_true.shape[0] == y_pred.shape[0]\n",
    "    return sum(y_true == (y_pred >= 0.5).astype(int))/len(y_true)"
   ]
  },
  {
   "cell_type": "markdown",
   "metadata": {},
   "source": [
    "Manually set the weight and bias parameters.\n",
    "Recall from lecture that the weight changes the slope of the sigmoid and the bias shifts the function to the left or right."
   ]
  },
  {
   "cell_type": "code",
   "execution_count": 13,
   "metadata": {},
   "outputs": [
    {
     "name": "stdout",
     "output_type": "stream",
     "text": [
      "Best Accuracy: 70.30%\n",
      "Best w: -0.6\n",
      "Best b: 90\n"
     ]
    }
   ],
   "source": [
    "# Hint: Try values between -1 and 1\n",
    "weights = [-1, -0.6, -0.2, 0.2, 0.6, 1] \n",
    "\n",
    "# Hint: Try values between 50 and 100\n",
    "biases = [50, 60, 70, 80, 90, 100]\n",
    "\n",
    "# Initialize variables to store the best parameters\n",
    "best_accuracy = 0\n",
    "best_w = None\n",
    "best_b = None\n",
    "\n",
    "# Test all combinations of w and b\n",
    "for w in weights:\n",
    "    for b in biases:\n",
    "        preds = neuron_predict(x, w, b)\n",
    "        acc = accuracy(y, preds)\n",
    "        if acc > best_accuracy:\n",
    "            best_accuracy = acc\n",
    "            best_w = w\n",
    "            best_b = b\n",
    "\n",
    "# Print the best parameters and the highest accuracy\n",
    "print(f'Best Accuracy: {best_accuracy:.2%}')\n",
    "print(f'Best w: {best_w}')\n",
    "print(f'Best b: {best_b}')"
   ]
  },
  {
   "cell_type": "code",
   "execution_count": 14,
   "metadata": {},
   "outputs": [
    {
     "name": "stdout",
     "output_type": "stream",
     "text": [
      "Best Accuracy: 70.30%\n",
      "Best w: -0.6\n",
      "Best b: 90\n"
     ]
    }
   ],
   "source": [
    "# Hint: Try values between -1 and 1\n",
    "weights = [-1, -0.6, -0.2, 0.2, 0.6, 1] \n",
    "\n",
    "# Hint: Try values between 50 and 100\n",
    "biases = [50, 60, 70, 80, 90, 100]\n",
    "\n",
    "# Initialize variables to store the best parameters\n",
    "best_accuracy = 0\n",
    "best_w = None\n",
    "best_b = None\n",
    "\n",
    "# Test all combinations of w and b\n",
    "for w in weights:\n",
    "    for b in biases:\n",
    "        preds = neuron_predict(x, w, b)\n",
    "        acc = accuracy(y, preds)\n",
    "        if acc > best_accuracy:\n",
    "            best_accuracy = acc\n",
    "            best_w = w\n",
    "            best_b = b\n",
    "\n",
    "# Print the best parameters and the highest accuracy\n",
    "print(f'Best Accuracy: {best_accuracy:.2%}')\n",
    "print(f'Best w: {best_w}')\n",
    "print(f'Best b: {best_b}')"
   ]
  },
  {
   "cell_type": "code",
   "execution_count": 15,
   "metadata": {},
   "outputs": [],
   "source": [
    "# The forward mode or predict of a single neuron\n",
    "\n",
    "# Create evenly spaced values of x to predict on\n",
    "x_linspace = np.linspace(x.min(),x.max(),500) \n",
    "h = neuron_predict(x_linspace,best_w, best_b)"
   ]
  },
  {
   "cell_type": "code",
   "execution_count": 16,
   "metadata": {},
   "outputs": [
    {
     "data": {
      "image/png": "[encoded data removed]",
      "text/plain": [
       "<Figure size 1100x700 with 1 Axes>"
      ]
     },
     "metadata": {},
     "output_type": "display_data"
    }
   ],
   "source": [
    "# Plot Predictions\n",
    "fig, ax = plt.subplots(1,1, figsize=(11,7))\n",
    "ax.scatter(x, y, label=r'Heart Data', alpha=0.2)\n",
    "ax.plot(x_linspace, h, lw=2, c='orange', label=r'Single Neuron')\n",
    "\n",
    "# First value in x_linspace with a probability < 0.5\n",
    "db = x_linspace[np.argmax(h<0.5)] \n",
    "ax.axvline(x=db, alpha=0.3, linestyle='-.', c='r', label='Decision Boundary')\n",
    "\n",
    "# Proper plot labels are very important!\n",
    "\n",
    "# Make the tick labels big enough to read\n",
    "ax.tick_params(labelsize=16)\n",
    "plt.xlabel('MaxHR', fontsize=16)\n",
    "plt.ylabel('Heart Disease (AHD)', fontsize=16)\n",
    "\n",
    "# Create a legend and make it big enough to read\n",
    "ax.legend(fontsize=16, loc='best') \n",
    "plt.show()\n"
   ]
  },
  {
   "cell_type": "code",
   "execution_count": 17,
   "metadata": {},
   "outputs": [],
   "source": [
    "def loss(y_true, y_pred, eps=1e-15):\n",
    "    assert y_true.shape[0] == y_pred.shape[0]\n",
    "    \n",
    "    # Clipping\n",
    "    y_pred = np.clip(y_pred, eps, 1 - eps)\n",
    "    return -sum(y_true*np.log(y_pred) + (1-y_true)*(np.log(1-y_pred)))"
   ]
  },
  {
   "cell_type": "code",
   "execution_count": 18,
   "metadata": {},
   "outputs": [
    {
     "name": "stdout",
     "output_type": "stream",
     "text": [
      "825.8970018862351\n"
     ]
    }
   ],
   "source": [
    "## Print the loss of the single neuron model\n",
    "h = neuron_predict(x, best_w, best_b)\n",
    "print(loss(y, h))"
   ]
  },
  {
   "cell_type": "code",
   "execution_count": 19,
   "metadata": {},
   "outputs": [
    {
     "name": "stdout",
     "output_type": "stream",
     "text": [
      "Baseline Accuracy: 45.87%\n",
      "Perceptron Accuracy: 70.30%\n"
     ]
    }
   ],
   "source": [
    "### edTest(test_performance) ###\n",
    "\n",
    "# For the baseline predictions are all ones\n",
    "baseline_acc = accuracy(y, np.ones(len(y)))     # type: ignore\n",
    "perceptron_acc = accuracy(y, h)                 # type: ignore\n",
    "print(f'Baseline Accuracy: {baseline_acc:.2%}')\n",
    "print(f'Perceptron Accuracy: {perceptron_acc:.2%}')\n"
   ]
  }
 ],
 "metadata": {
  "kernelspec": {
   "display_name": "Python 3",
   "language": "python",
   "name": "python3"
  },
  "language_info": {
   "codemirror_mode": {
    "name": "ipython",
    "version": 3
   },
   "file_extension": ".py",
   "mimetype": "text/x-python",
   "name": "python",
   "nbconvert_exporter": "python",
   "pygments_lexer": "ipython3",
   "version": "3.11.5"
  }
 },
 "nbformat": 4,
 "nbformat_minor": 2
}
